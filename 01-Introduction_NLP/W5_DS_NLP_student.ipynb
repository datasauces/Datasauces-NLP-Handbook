
{
 "cells": [
  {
   "cell_type": "markdown",
   "metadata": {},
   "source": [
    "# Sentiment Analysis of Amazon's customer reviews\n",
    "**Authors:** Julián Darío Miranda <br>\n",
    "**Sources:** *Correlation One* | *Kaggle.com*<br>\n",
    "**Case presentation time:** 60 minutes"
   ]
  },
  {
   "cell_type": "markdown",
   "metadata": {},
   "source": [
    "## Introduction to the Case study\n",
    "\n",
    "**Business Context.** You are a data scientist for a large e-commerce firm. You have tens of thousands of customers writing reviews on products each day. Each review contains textual feedback along with a 1-to-5 star rating system (1 being least satisfied and 5 being most satisfied). The firm wants to quantify customer satisfaction coming from these non-rated interactions to help with further business decisions.\n",
    "\n",
    "**Business Problem.** Your task is to *build models which can identify the sentiment (positive or negative) of each of these non-rated interactions*.\n",
    "\n",
    "**Analytical Context.** The data is a set of reviews in CSV file format. We will combine some text processing procedures to be learnt in this session and classification models to develop algorithms capable of classifying interactions by sentiment.\n",
    "\n",
    "You'll be doing the following in this case:\n",
    "1. Read and analyze the input text data and the corresponding response variables (ratings)\n",
    "2. Perform basic pre-processing to prepare the data for modeling\n",
    "3. Learn and apply various ways of featurizing the reviews text\n",
    "4. Build machine learning models to classify text as either exhibiting positive or negative sentiment (1 or 0)."
   ]
  },
  {
   "cell_type": "markdown",
   "metadata": {},
   "source": [
    "## NLP related context\n",
    "\n",
    "Some of the most famous NLP-related success stories come from Google, where it is used to provide answers to vague or misspelled internet searches, as well as fairly understandable machine translations of plain text.\n",
    "\n",
    "There are often a lot of misconceptions around the NLP and its place within machine learning in general. NLP is more than just machine learning applied to words. It has two features that make it intractable for common applications like machine learning:"
   ]
  },
  {
   "cell_type": "markdown",
   "metadata": {},
   "source": [
    "### Challenge 1: Highly Dimensional\n",
    "\n",
    "Consider the book *One Hundred Years of Solitude*. It has more than 1 million characters. Can we see this as a vector of strings that take values in a space of 1 million dimensions and then apply machine learning methods? This is a very bad idea for two reasons:\n",
    "\n",
    "1. Basic approaches perform terribly well in such dimensional spaces.\n",
    "2. These approaches miss some important rules about language that we all know; for example, that \"yes\", \"yeah\" and \"yayy\" mean the same thing.\n",
    "\n",
    "As a result, a lot of NLP involves finding ways to summarize incredibly long vectors in a concise manner, so that we can explore, analyze, and build models with them later."
   ]
  },
  {
   "cell_type": "markdown",
   "metadata": {},
   "source": [
    "### Challenge 2: The text depends on the context (*lexical semantics* )\n",
    "\n",
    "For example, the word *compact* has many uses in English (*homograph terms* ):\n",
    "\n",
    "1. A synonym of *small*\n",
    "2. A verb that describes the action of compressing something\n",
    "3. A verb that describes the action of making something firm or stable\n",
    "4. A small case for makeup.\n",
    "5. A compact car.\n",
    "6. A cassette.\n",
    "\n",
    "All-purpose word-processing packages will have to take care of all of this. The ambiguity of some definitions can lead to misleading results that can be easily fixed by a team that is familiar with the underlying NLP processes."
   ]
  },
  {
   "cell_type": "markdown",
   "metadata": {},
   "source": [
    "## Importing the packages for data analysis\n",
    "\n",
    "At first sight, we will use four main packages: ```pandas```,``` numpy```, ```matplotlib``` and ``` seaborn```. Let's import these packages using the keyword ``import``. We will change the name from ``pandas`` to ```pd```,```numpy``` to ```np```,```matplotlib``` to ```plt```and ```seaborn``` to ```sns```, using the keyword ``as``.\n",
    "\n",
    "We will be using the `nltk`, `sklearn`, `collections` and `wordcloud` packages for processing our text component. While we analyze the text, we will be using `sklearn` package again to model our text features."
   ]
  },
  {
   "cell_type": "code",
   "execution_count": 1,
   "metadata": {},
   "outputs": [],
   "source": [
    "# General packages\n",
    "import numpy as np\n",
    "import pandas as pd\n",
    "import seaborn as sns\n",
    "import matplotlib.pyplot as plt\n",
    "import os\n",
    "\n",
    "# NLP packages\n",
    "import nltk\n",
    "from nltk import word_tokenize\n",
    "from sklearn.feature_extraction.text import CountVectorizer\n",
    "from sklearn.feature_extraction.text import TfidfVectorizer\n",
    "from collections import Counter\n",
    "from wordcloud import WordCloud\n",
    "\n",
    "# Modeling packages\n",
    "from sklearn.model_selection import train_test_split\n",
    "from sklearn.linear_model import LogisticRegression\n",
    "from sklearn.ensemble import RandomForestClassifier\n",
    "from sklearn.metrics import accuracy_score\n",
    "from sklearn.metrics import f1_score\n",
    "\n",
    "from pylab import rcParams\n",
    "import warnings\n",
    "warnings.filterwarnings(\"ignore\")\n",
    "rcParams['figure.figsize'] = 14, 6\n",
    "plt.style.use('ggplot')"
   ]
  },
  {
   "cell_type": "markdown",
   "metadata": {
    "collapsed": true
   },
   "source": [
    "We will be working with a .csv file that contains information about tens of thousands of customers writing reviews on Amazon products every day. Each review contains textual feedback along with a 1-to-5 star rating system (1 being least satisfied and 5 being most satisfied). In this way, the following attributes are available in the data:\n",
    "\n",
    "1. **Id (numerical):** start and end date of the attack in *timestamp* format.\n",
    "2. **ProductId (categorical):** ID of the referenced product by the customer.\n",
    "3. **UserId (categorical):** registered user ID.\n",
    "4. **ProfileName (text):** registered user profile name.\n",
    "5. **HelpfulnessNumerator (numerical):** number of users who found the review helpful.\n",
    "6. **HelpfulnessDenominator (numerical):** Number of users who voted whether the review was helpful or not.\n",
    "7. **Score (ordinal):** rating between 1 and 5.\n",
    "8. **Time (numerical):** timestamp of the review.\n",
    "9. **Summary (text):** brief summary of the review.\n",
    "10. **Text (text):** text of the review."
   ]
  },
  {
   "cell_type": "markdown",
   "metadata": {},
   "source": [
    "## Reading and performing basic analysis of the data\n",
    "\n",
    "As usual the first step is to read the available data and perform some high-level analysis on it:"
   ]
  },
  {
   "cell_type": "code",
   "execution_count": 2,
   "metadata": {
    "scrolled": false
   },
   "outputs": [
    {
     "data": {
      "text/html": [
       "<div>\n",
       "<style scoped>\n",
       "    .dataframe tbody tr th:only-of-type {\n",
       "        vertical-align: middle;\n",
       "    }\n",
       "\n",
       "    .dataframe tbody tr th {\n",
       "        vertical-align: top;\n",
       "    }\n",
       "\n",
       "    .dataframe thead th {\n",
       "        text-align: right;\n",
       "    }\n",
       "</style>\n",
       "<table border=\"1\" class=\"dataframe\">\n",
       "  <thead>\n",
       "    <tr style=\"text-align: right;\">\n",
       "      <th></th>\n",
       "      <th>ProductId</th>\n",
       "      <th>UserId</th>\n",
       "      <th>ProfileName</th>\n",
       "      <th>HelpfulnessNumerator</th>\n",
       "      <th>HelpfulnessDenominator</th>\n",
       "      <th>Score</th>\n",
       "      <th>Time</th>\n",
       "      <th>Summary</th>\n",
       "      <th>Text</th>\n",
       "    </tr>\n",
       "  </thead>\n",
       "  <tbody>\n",
       "    <tr>\n",
       "      <th>0</th>\n",
       "      <td>B001E4KFG0</td>\n",
       "      <td>A3SGXH7AUHU8GW</td>\n",
       "      <td>delmartian</td>\n",
       "      <td>1</td>\n",
       "      <td>1</td>\n",
       "      <td>5</td>\n",
       "      <td>1303862400</td>\n",
       "      <td>Good Quality Dog Food</td>\n",
       "      <td>I have bought several of the Vitality canned d...</td>\n",
       "    </tr>\n",
       "    <tr>\n",
       "      <th>1</th>\n",
       "      <td>B00813GRG4</td>\n",
       "      <td>A1D87F6ZCVE5NK</td>\n",
       "      <td>dll pa</td>\n",
       "      <td>0</td>\n",
       "      <td>0</td>\n",
       "      <td>1</td>\n",
       "      <td>1346976000</td>\n",
       "      <td>Not as Advertised</td>\n",
       "      <td>Product arrived labeled as Jumbo Salted Peanut...</td>\n",
       "    </tr>\n",
       "    <tr>\n",
       "      <th>2</th>\n",
       "      <td>B000LQOCH0</td>\n",
       "      <td>ABXLMWJIXXAIN</td>\n",
       "      <td>Natalia Corres \"Natalia Corres\"</td>\n",
       "      <td>1</td>\n",
       "      <td>1</td>\n",
       "      <td>4</td>\n",
       "      <td>1219017600</td>\n",
       "      <td>\"Delight\" says it all</td>\n",
       "      <td>This is a confection that has been around a fe...</td>\n",
       "    </tr>\n",
       "  </tbody>\n",
       "</table>\n",
       "</div>"
      ],
      "text/plain": [
       "    ProductId          UserId                      ProfileName  \\\n",
       "0  B001E4KFG0  A3SGXH7AUHU8GW                       delmartian   \n",
       "1  B00813GRG4  A1D87F6ZCVE5NK                           dll pa   \n",
       "2  B000LQOCH0   ABXLMWJIXXAIN  Natalia Corres \"Natalia Corres\"   \n",
       "\n",
       "   HelpfulnessNumerator  HelpfulnessDenominator  Score        Time  \\\n",
       "0                     1                       1      5  1303862400   \n",
       "1                     0                       0      1  1346976000   \n",
       "2                     1                       1      4  1219017600   \n",
       "\n",
       "                 Summary                                               Text  \n",
       "0  Good Quality Dog Food  I have bought several of the Vitality canned d...  \n",
       "1      Not as Advertised  Product arrived labeled as Jumbo Salted Peanut...  \n",
       "2  \"Delight\" says it all  This is a confection that has been around a fe...  "
      ]
     },
     "execution_count": 2,
     "metadata": {},
     "output_type": "execute_result"
    }
   ],
   "source": [
    "amazon_reviews = pd.read_csv('https://media.githubusercontent.com/media/juliandariomirandacalle/NLP_Notebooks/master/01-Introduction_NLP/Customer_Reviews.csv')\n",
    "amazon_reviews.head(3)"
   ]
  },
  {
   "cell_type": "markdown",
   "metadata": {},
   "source": [
    "Let's look at the distribution of number of words per review. We will do this by applying a *lambda* function that splits each complete review by spaces, which will give us the borad words:"
   ]
  },
  {
   "cell_type": "code",
   "execution_count": 3,
   "metadata": {},
   "outputs": [
    {
     "data": {
      "image/png": "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\n",
      "text/plain": [
       "<Figure size 1008x432 with 1 Axes>"