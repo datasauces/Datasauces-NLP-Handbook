
{
 "cells": [
  {
   "cell_type": "markdown",
   "metadata": {},
   "source": [
    "# Sentiment Analysis of Amazon's customer reviews\n",
    "**Authors:** Julián Darío Miranda <br>\n",
    "**Sources:** *Correlation One* | *Kaggle.com*<br>\n",
    "**Case presentation time:** 60 minutes"
   ]
  },
  {
   "cell_type": "markdown",
   "metadata": {},
   "source": [
    "## Introduction to the Case study\n",
    "\n",
    "**Business Context.** You are a data scientist for a large e-commerce firm. You have tens of thousands of customers writing reviews on products each day. Each review contains textual feedback along with a 1-to-5 star rating system (1 being least satisfied and 5 being most satisfied). The firm wants to quantify customer satisfaction coming from these non-rated interactions to help with further business decisions.\n",
    "\n",
    "**Business Problem.** Your task is to *build models which can identify the sentiment (positive or negative) of each of these non-rated interactions*.\n",
    "\n",
    "**Analytical Context.** The data is a set of reviews in CSV file format. We will combine some text processing procedures to be learnt in this session and classification models to develop algorithms capable of classifying interactions by sentiment.\n",
    "\n",
    "You'll be doing the following in this case:\n",
    "1. Read and analyze the input text data and the corresponding response variables (ratings)\n",
    "2. Perform basic pre-processing to prepare the data for modeling\n",
    "3. Learn and apply various ways of featurizing the reviews text\n",
    "4. Build machine learning models to classify text as either exhibiting positive or negative sentiment (1 or 0)."
   ]
  },
  {
   "cell_type": "markdown",
   "metadata": {},
   "source": [
    "## NLP related context\n",
    "\n",
    "Some of the most famous NLP-related success stories come from Google, where it is used to provide answers to vague or misspelled internet searches, as well as fairly understandable machine translations of plain text.\n",
    "\n",
    "There are often a lot of misconceptions around the NLP and its place within machine learning in general. NLP is more than just machine learning applied to words. It has two features that make it intractable for common applications like machine learning:"
   ]
  },
  {
   "cell_type": "markdown",
   "metadata": {},
   "source": [
    "### Challenge 1: Highly Dimensional\n",
    "\n",
    "Consider the book *One Hundred Years of Solitude*. It has more than 1 million characters. Can we see this as a vector of strings that take values in a space of 1 million dimensions and then apply machine learning methods? This is a very bad idea for two reasons:\n",
    "\n",
    "1. Basic approaches perform terribly well in such dimensional spaces.\n",