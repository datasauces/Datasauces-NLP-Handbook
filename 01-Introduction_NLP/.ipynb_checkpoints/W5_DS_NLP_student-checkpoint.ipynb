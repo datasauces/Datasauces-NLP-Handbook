
{
 "cells": [
  {
   "cell_type": "markdown",
   "metadata": {},
   "source": [
    "# Sentiment Analysis of Amazon's customer reviews\n",
    "**Authors:** Julián Darío Miranda <br>\n",
    "**Sources:** *Correlation One* | *Kaggle.com*<br>\n",
    "**Case presentation time:** 60 minutes"
   ]
  },
  {
   "cell_type": "markdown",
   "metadata": {},
   "source": [
    "## Introduction to the Case study\n",
    "\n",
    "**Business Context.** You are a data scientist for a large e-commerce firm. You have tens of thousands of customers writing reviews on products each day. Each review contains textual feedback along with a 1-to-5 star rating system (1 being least satisfied and 5 being most satisfied). The firm wants to quantify customer satisfaction coming from these non-rated interactions to help with further business decisions.\n",
    "\n",
    "**Business Problem.** Your task is to *build models which can identify the sentiment (positive or negative) of each of these non-rated interactions*.\n",
    "\n",
    "**Analytical Context.** The data is a set of reviews in CSV file format. We will combine some text processing procedures to be learnt in this session and classification models to develop algorithms capable of classifying interactions by sentiment.\n",
    "\n",
    "You'll be doing the following in this case:\n",
    "1. Read and analyze the input text data and the corresponding response variables (ratings)\n",
    "2. Perform basic pre-processing to prepare the data for modeling\n",
    "3. Learn and apply various ways of featurizing the reviews text\n",
    "4. Build machine learning models to classify text as either exhibiting positive or negative sentiment (1 or 0)."
   ]
  },
  {
   "cell_type": "markdown",
   "metadata": {},
   "source": [
    "## NLP related context\n",
    "\n",
    "Some of the most famous NLP-related success stories come from Google, where it is used to provide answers to vague or misspelled internet searches, as well as fairly understandable machine translations of plain text.\n",
    "\n",
    "There are often a lot of misconceptions around the NLP and its place within machine learning in general. NLP is more than just machine learning applied to words. It has two features that make it intractable for common applications like machine learning:"
   ]
  },
  {
   "cell_type": "markdown",
   "metadata": {},
   "source": [
    "### Challenge 1: Highly Dimensional\n",
    "\n",
    "Consider the book *One Hundred Years of Solitude*. It has more than 1 million characters. Can we see this as a vector of strings that take values in a space of 1 million dimensions and then apply machine learning methods? This is a very bad idea for two reasons:\n",
    "\n",
    "1. Basic approaches perform terribly well in such dimensional spaces.\n",
    "2. These approaches miss some important rules about language that we all know; for example, that \"yes\", \"yeah\" and \"yayy\" mean the same thing.\n",
    "\n",
    "As a result, a lot of NLP involves finding ways to summarize incredibly long vectors in a concise manner, so that we can explore, analyze, and build models with them later."
   ]
  },
  {
   "cell_type": "markdown",
   "metadata": {},
   "source": [
    "### Challenge 2: The text depends on the context (*lexical semantics* )\n",
    "\n",
    "For example, the word *compact* has many uses in English (*homograph terms* ):\n",
    "\n",
    "1. A synonym of *small*\n",
    "2. A verb that describes the action of compressing something\n",
    "3. A verb that describes the action of making something firm or stable\n",
    "4. A small case for makeup.\n",
    "5. A compact car.\n",
    "6. A cassette.\n",
    "\n",
    "All-purpose word-processing packages will have to take care of all of this. The ambiguity of some definitions can lead to misleading results that can be easily fixed by a team that is familiar with the underlying NLP processes."
   ]
  },
  {
   "cell_type": "markdown",
   "metadata": {},
   "source": [
    "## Importing the packages for data analysis\n",
    "\n",
    "At first sight, we will use four main packages: ```pandas```,``` numpy```, ```matplotlib``` and ``` seaborn```. Let's import these packages using the keyword ``import``. We will change the name from ``pandas`` to ```pd```,```numpy``` to ```np```,```matplotlib``` to ```plt```and ```seaborn``` to ```sns```, using the keyword ``as``.\n",
    "\n",
    "We will be using the `nltk`, `sklearn`, `collections` and `wordcloud` packages for processing our text component. While we analyze the text, we will be using `sklearn` package again to model our text features."
   ]
  },
  {
   "cell_type": "code",
   "execution_count": null,
   "metadata": {},
   "outputs": [],
   "source": [
    "! pip install nltk\n",
    "! pip install wordcloud"
   ]
  },
  {
   "cell_type": "code",
   "execution_count": 3,
   "metadata": {},
   "outputs": [],
   "source": [
    "# General packages\n",
    "import numpy as np\n",
    "import pandas as pd\n",
    "import seaborn as sns\n",
    "import matplotlib.pyplot as plt\n",
    "import os\n",
    "\n",
    "# NLP packages\n",
    "import nltk\n",
    "from nltk import word_tokenize\n",
    "from sklearn.feature_extraction.text import CountVectorizer\n",
    "from sklearn.feature_extraction.text import TfidfVectorizer\n",
    "from collections import Counter\n",
    "from wordcloud import WordCloud\n",
    "\n",
    "# Modeling packages\n",
    "from sklearn.model_selection import train_test_split\n",
    "from sklearn.linear_model import LogisticRegression\n",
    "from sklearn.ensemble import RandomForestClassifier\n",
    "from sklearn.metrics import accuracy_score\n",
    "from sklearn.metrics import f1_score\n",
    "\n",
    "from pylab import rcParams\n",
    "import warnings\n",
    "warnings.filterwarnings(\"ignore\")\n",
    "rcParams['figure.figsize'] = 14, 6\n",
    "plt.style.use('ggplot')"
   ]
  },
  {
   "cell_type": "markdown",
   "metadata": {
    "collapsed": true
   },
   "source": [
    "We will be working with a .csv file that contains information about tens of thousands of customers writing reviews on Amazon products every day. Each review contains textual feedback along with a 1-to-5 star rating system (1 being least satisfied and 5 being most satisfied). In this way, the following attributes are available in the data:\n",
    "\n",
    "1. **ProductId (categorical):** ID of the referenced product by the customer.\n",
    "2. **UserId (categorical):** registered user ID.\n",
    "3. **ProfileName (text):** registered user profile name.\n",
    "4. **HelpfulnessNumerator (numerical):** number of users who found the review helpful.\n",
    "5. **HelpfulnessDenominator (numerical):** Number of users who voted whether the review was helpful or not.\n",
    "6. **Score (ordinal):** rating between 1 and 5.\n",
    "7. **Time (numerical):** timestamp of the review.\n",
    "8. **Summary (text):** brief summary of the review.\n",
    "9. **Text (text):** text of the review."
   ]
  },
  {
   "cell_type": "markdown",
   "metadata": {},
   "source": [
    "## Reading and performing basic analysis of the data\n",
    "\n",
    "As usual the first step is to read the available data and perform some high-level analysis on it:"
   ]
  },
  {
   "cell_type": "code",
   "execution_count": 2,
   "metadata": {
    "scrolled": false
   },
   "outputs": [
    {
     "data": {
      "text/html": [
       "<div>\n",
       "<style scoped>\n",
       "    .dataframe tbody tr th:only-of-type {\n",
       "        vertical-align: middle;\n",
       "    }\n",
       "\n",
       "    .dataframe tbody tr th {\n",
       "        vertical-align: top;\n",
       "    }\n",
       "\n",
       "    .dataframe thead th {\n",
       "        text-align: right;\n",
       "    }\n",
       "</style>\n",
       "<table border=\"1\" class=\"dataframe\">\n",
       "  <thead>\n",
       "    <tr style=\"text-align: right;\">\n",
       "      <th></th>\n",
       "      <th>ProductId</th>\n",
       "      <th>UserId</th>\n",
       "      <th>ProfileName</th>\n",
       "      <th>HelpfulnessNumerator</th>\n",
       "      <th>HelpfulnessDenominator</th>\n",
       "      <th>Score</th>\n",
       "      <th>Time</th>\n",
       "      <th>Summary</th>\n",
       "      <th>Text</th>\n",
       "    </tr>\n",
       "  </thead>\n",
       "  <tbody>\n",
       "    <tr>\n",
       "      <th>0</th>\n",
       "      <td>B001E4KFG0</td>\n",
       "      <td>A3SGXH7AUHU8GW</td>\n",
       "      <td>delmartian</td>\n",
       "      <td>1</td>\n",
       "      <td>1</td>\n",
       "      <td>5</td>\n",
       "      <td>1303862400</td>\n",
       "      <td>Good Quality Dog Food</td>\n",
       "      <td>I have bought several of the Vitality canned d...</td>\n",
       "    </tr>\n",
       "    <tr>\n",
       "      <th>1</th>\n",
       "      <td>B00813GRG4</td>\n",
       "      <td>A1D87F6ZCVE5NK</td>\n",
       "      <td>dll pa</td>\n",
       "      <td>0</td>\n",
       "      <td>0</td>\n",
       "      <td>1</td>\n",
       "      <td>1346976000</td>\n",
       "      <td>Not as Advertised</td>\n",
       "      <td>Product arrived labeled as Jumbo Salted Peanut...</td>\n",
       "    </tr>\n",
       "    <tr>\n",
       "      <th>2</th>\n",
       "      <td>B000LQOCH0</td>\n",
       "      <td>ABXLMWJIXXAIN</td>\n",
       "      <td>Natalia Corres \"Natalia Corres\"</td>\n",
       "      <td>1</td>\n",
       "      <td>1</td>\n",
       "      <td>4</td>\n",
       "      <td>1219017600</td>\n",
       "      <td>\"Delight\" says it all</td>\n",
       "      <td>This is a confection that has been around a fe...</td>\n",
       "    </tr>\n",
       "  </tbody>\n",
       "</table>\n",
       "</div>"
      ],
      "text/plain": [
       "    ProductId          UserId                      ProfileName  \\\n",
       "0  B001E4KFG0  A3SGXH7AUHU8GW                       delmartian   \n",
       "1  B00813GRG4  A1D87F6ZCVE5NK                           dll pa   \n",
       "2  B000LQOCH0   ABXLMWJIXXAIN  Natalia Corres \"Natalia Corres\"   \n",
       "\n",
       "   HelpfulnessNumerator  HelpfulnessDenominator  Score        Time  \\\n",
       "0                     1                       1      5  1303862400   \n",
       "1                     0                       0      1  1346976000   \n",
       "2                     1                       1      4  1219017600   \n",
       "\n",
       "                 Summary                                               Text  \n",
       "0  Good Quality Dog Food  I have bought several of the Vitality canned d...  \n",
       "1      Not as Advertised  Product arrived labeled as Jumbo Salted Peanut...  \n",
       "2  \"Delight\" says it all  This is a confection that has been around a fe...  "
      ]
     },
     "execution_count": 2,
     "metadata": {},
     "output_type": "execute_result"
    }
   ],
   "source": [
    "amazon_reviews = pd.read_csv('https://media.githubusercontent.com/media/juliandariomirandacalle/NLP_Notebooks/master/01-Introduction_NLP/Customer_Reviews.csv')\n",
    "amazon_reviews.head(3)"
   ]
  },
  {
   "cell_type": "markdown",
   "metadata": {},
   "source": [
    "Let's look at the distribution of number of words per review. We will do this by applying a *lambda* function that splits each complete review by spaces, which will give us the borad words:"
   ]
  },
  {
   "cell_type": "code",
   "execution_count": 3,
   "metadata": {},
   "outputs": [
    {
     "data": {
      "image/png": "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\n",
      "text/plain": [
       "<Figure size 1008x432 with 1 Axes>"
      ]
     },
     "metadata": {},
     "output_type": "display_data"
    }
   ],
   "source": [
    "## Getting the number of words by splitting them by a space\n",
    "words_per_review = amazon_reviews.Text.apply(lambda x: len(x.split(\" \")))\n",
    "words_per_review.hist(bins = 100)\n",
    "plt.xlabel('Review Length (words)')\n",
    "plt.ylabel('Frequency')\n",
    "plt.show()"
   ]
  },
  {
   "cell_type": "code",
   "execution_count": 4,
   "metadata": {},
   "outputs": [
    {
     "name": "stdout",
     "output_type": "stream",
     "text": [
      "Average words: 77.9028\n",
      "Skewness: 4.612459483340116\n"
     ]
    }
   ],
   "source": [
    "print('Average words:', words_per_review.mean())\n",
    "print('Skewness:', words_per_review.skew())"
   ]
  },
  {
   "cell_type": "markdown",
   "metadata": {},
   "source": [
    "We can see that the number of words per user review is highly positive skewed with mean of 77, which means that on average, user reviews have 77 words."
   ]
  },
  {
   "cell_type": "markdown",
   "metadata": {},
   "source": [
    "Let's also look at the distribution of ratings:"
   ]
  },
  {
   "cell_type": "code",
   "execution_count": 5,
   "metadata": {
    "scrolled": false
   },
   "outputs": [
    {
     "data": {
      "text/plain": [
       "5    61.83\n",
       "4    14.33\n",
       "1     9.32\n",
       "3     8.62\n",
       "2     5.90\n",
       "Name: Score, dtype: float64"
      ]
     },
     "execution_count": 5,
     "metadata": {},
     "output_type": "execute_result"
    }
   ],
   "source": [
    "percent_val = 100 * amazon_reviews['Score'].value_counts()/len(amazon_reviews)\n",
    "percent_val"
   ]
  },
  {
   "cell_type": "code",
   "execution_count": 6,
   "metadata": {},
   "outputs": [
    {
     "data": {
      "image/png": "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\n",
      "text/plain": [
       "<Figure size 1008x432 with 1 Axes>"